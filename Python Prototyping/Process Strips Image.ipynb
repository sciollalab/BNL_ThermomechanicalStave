{
 "cells": [
  {
   "cell_type": "markdown",
   "metadata": {},
   "source": [
    "#### Turn on autoreload"
   ]
  },
  {
   "cell_type": "code",
   "execution_count": null,
   "metadata": {
    "collapsed": true
   },
   "outputs": [],
   "source": [
    "%load_ext autoreload"
   ]
  },
  {
   "cell_type": "markdown",
   "metadata": {},
   "source": [
    "<p><b>%autoreload</b>: Reload all modules (except those excluded by %aimport) automatically now.<br>\n",
    "<b>%autoreload 0</b>: Disable automatic reloading.<br>\n",
    "<b>%autoreload 1</b>: Reload all modules imported with %aimport every time before executing the Python code typed.<br>\n",
    "<b>%autoreload 2</b>: Reload all modules (except those excluded by %aimport) every time before executing the Python code typed.</p>\n",
    "<p><b>%aimport</b>: List modules which are to be automatically imported or not to be imported.<br>\n",
    "<b>%aimport foo</b>: Import module ‘foo’ and mark it to be autoreloaded for %autoreload 1<br>\n",
    "<b>%aimport -foo</b>: Mark module ‘foo’ to not be autoreloaded.</p>"
   ]
  },
  {
   "cell_type": "code",
   "execution_count": null,
   "metadata": {
    "collapsed": true
   },
   "outputs": [],
   "source": [
    "%autoreload 2"
   ]
  },
  {
   "cell_type": "markdown",
   "metadata": {},
   "source": [
    "#### Show plots in the notebook"
   ]
  },
  {
   "cell_type": "code",
   "execution_count": null,
   "metadata": {
    "collapsed": true
   },
   "outputs": [],
   "source": [
    "%matplotlib inline"
   ]
  },
  {
   "cell_type": "markdown",
   "metadata": {},
   "source": [
    "#### Load modules"
   ]
  },
  {
   "cell_type": "code",
   "execution_count": null,
   "metadata": {
    "collapsed": true
   },
   "outputs": [],
   "source": [
    "import numpy as np\n",
    "import scipy as sp\n",
    "import matplotlib.pyplot as plt\n",
    "import cv2\n",
    "#import imreg_dft as ird\n",
    "import os\n",
    "import sys\n",
    "import re\n",
    "import csv"
   ]
  },
  {
   "cell_type": "markdown",
   "metadata": {},
   "source": [
    "#### Load additional definitions"
   ]
  },
  {
   "cell_type": "code",
   "execution_count": null,
   "metadata": {
    "collapsed": true
   },
   "outputs": [],
   "source": [
    "import process_strips as p"
   ]
  },
  {
   "cell_type": "markdown",
   "metadata": {},
   "source": [
    "#### Set plot formatting defaults"
   ]
  },
  {
   "cell_type": "code",
   "execution_count": null,
   "metadata": {
    "collapsed": true
   },
   "outputs": [],
   "source": [
    "plt.style.use('classic')\n",
    "plt.rcParams['figure.figsize'] = (15.0, 10.0)\n",
    "plt.rcParams['axes.titlesize'] = 28\n",
    "plt.rcParams['axes.labelsize'] = 24\n",
    "plt.rcParams['xtick.labelsize'] = 20\n",
    "plt.rcParams['ytick.labelsize'] = 20\n",
    "plt.rcParams['legend.fontsize'] = 18"
   ]
  },
  {
   "cell_type": "markdown",
   "metadata": {},
   "source": [
    "#### Definition: Draw a given ROI rectangle"
   ]
  },
  {
   "cell_type": "code",
   "execution_count": null,
   "metadata": {
    "collapsed": true
   },
   "outputs": [],
   "source": [
    "def draw_ROI(img, coords, color):\n",
    "    img_box = img.copy()\n",
    "    cv2.rectangle(img_box, (coords[2], coords[0]), (coords[3], coords[1]), color, 5)\n",
    "    return img_box"
   ]
  },
  {
   "cell_type": "markdown",
   "metadata": {},
   "source": [
    "#### Definition: Make a directory if it does not exist"
   ]
  },
  {
   "cell_type": "code",
   "execution_count": null,
   "metadata": {
    "collapsed": true
   },
   "outputs": [],
   "source": [
    "# Make a directory if it doesn't exist\n",
    "def make_dir(path):\n",
    "    os.makedirs(path, exist_ok=True)"
   ]
  },
  {
   "cell_type": "markdown",
   "metadata": {},
   "source": [
    "## Process Image(s)"
   ]
  },
  {
   "cell_type": "markdown",
   "metadata": {},
   "source": [
    "#### Image processing variables"
   ]
  },
  {
   "cell_type": "code",
   "execution_count": null,
   "metadata": {
    "collapsed": true
   },
   "outputs": [],
   "source": [
    "rect = [3000, 3000]\n",
    "step = 1\n",
    "\n",
    "# Directory of images\n",
    "img_dir = r'D:\\Documents\\School\\Brookhaven\\Images\\2017-06-15\\Fast Conversion Test'\n",
    "# Directory where results are saved\n",
    "save_dir = r'%s\\%dx%d\\Step %d' % (img_dir, rect[0], rect[1], step)\n",
    "\n",
    "# Make the save directory, if it does not exist\n",
    "make_dir(save_dir)\n",
    "\n",
    "# Filename regex to match\n",
    "match_pattern = \"^.*.png$\"\n",
    "#match_pattern = \"^image_([0-9]*)_([-0-9]*)_([-0-9]*)_([-0-9]*).png$\"\n",
    "\n",
    "# Sampling every nth file\n",
    "# The file number modulo mod should equal remainder rem\n",
    "mod = 1\n",
    "rem = 0\n",
    "\n",
    "# Image matching method\n",
    "img_method = cv2.TM_SQDIFF_NORMED"
   ]
  },
  {
   "cell_type": "code",
   "execution_count": null,
   "metadata": {
    "collapsed": true
   },
   "outputs": [],
   "source": [
    "def get_image_center(w, h):\n",
    "    \n",
    "    x_center = int(w/2.0)\n",
    "    y_center = int(h/2.0)\n",
    "    \n",
    "    return x_center, y_center    \n",
    "\n",
    "def process_ROI_and_save(img_gray, coords_max, save_dir, file_num):\n",
    "    \n",
    "    save_header = ['Column [px]', 'Row Start [px]', 'Row End [px]', 'Amplitudes [0-255]', 'Means [px]', 'Std. Dev. [px]', 'Error Amp [px]', 'Error Mean [px]', 'Error Std. Dev. [px]', 'dx']\n",
    "\n",
    "    # Show the rectangular region of interest\n",
    "    print(\"     Displaying ROI...\")\n",
    "    img_center = draw_ROI(img_gray, coords_max, (255, 255, 255))\n",
    "    plt.imshow(img_center, cmap = 'gray')\n",
    "    plt.xticks([]), plt.yticks([])  # to hide tick values on X and Y axis\n",
    "    plt.title(\"Region of Interest, Outlined\")\n",
    "    plt.savefig(\"%s/%d_roi_outline.png\" % (save_dir, file_num), dpi=300)\n",
    "    plt.show()\n",
    "\n",
    "    import time\n",
    "    start_time = time.time()\n",
    "    print(\"     Processing ROI...\")\n",
    "    img_light, results_light, numstrips = p.process_ROI(img_gray, coords_max, step, np.mean(img_gray), 20, 3.0)\n",
    "    print(\"--- %s seconds ---\" % (time.time() - start_time))                        \n",
    "\n",
    "    # Show the ROI with overlaid samples\n",
    "    plt.imshow(img_light, cmap = 'gray')\n",
    "    plt.xticks([]), plt.yticks([])  # to hide tick values on X and Y axis\n",
    "    plt.title(\"ROI Used\")\n",
    "    plt.savefig(\"%s/%d_roi.png\" % (save_dir, file_num), dpi=300)\n",
    "    plt.show()\n",
    "\n",
    "    p.save_results(\"%s/%d_results.csv\" % (save_dir, file_num), results_light, save_header)\n",
    "\n",
    "    return numstrips"
   ]
  },
  {
   "cell_type": "code",
   "execution_count": null,
   "metadata": {
    "scrolled": false
   },
   "outputs": [],
   "source": [
    "# Initialize result variables\n",
    "scales = []\n",
    "angles = []\n",
    "success = []\n",
    "results = {}\n",
    "\n",
    "hi = 255\n",
    "window = 101\n",
    "c = 2\n",
    "\n",
    "# Get list of files in the image directory\n",
    "filenames = next(os.walk(img_dir))[2]\n",
    "print(filenames)\n",
    "\n",
    "# Iterate all the files\n",
    "for fn in filenames:\n",
    "    # Regex match on the filenames\n",
    "    match = re.search(match_pattern, fn)\n",
    "\n",
    "    # Pattern matched\n",
    "    if match:\n",
    "        # Get the file number\n",
    "        try:\n",
    "            file_num = int(match.group(1))\n",
    "        except:\n",
    "            file_num = 1\n",
    "        file_name = \"%s\\%s\" % (img_dir, fn)\n",
    "\n",
    "        # Sample every mod'th file in the directory, starting with file rem\n",
    "        if (file_num % mod == rem):\n",
    "            print(\"Loading file number %d.\" % (file_num))\n",
    "\n",
    "            # Load the image file into an array\n",
    "            # WARNING: This will fail if PIL is imported!\n",
    "            img = cv2.imread(file_name)\n",
    "            \n",
    "            # Show the camera image\n",
    "            plt.imshow(img, cmap = 'gray')\n",
    "            plt.xticks([]), plt.yticks([])  # to hide tick values on X and Y axis\n",
    "            plt.title(\"Camera Image\")\n",
    "            plt.show()\n",
    "            \n",
    "            img_gray = cv2.cvtColor(img, cv2.COLOR_BGR2GRAY)\n",
    "\n",
    "            print(\"     Subtracting image mean and dividing by the standard deviation...\")\n",
    "            # https://www.quora.com/What-are-the-ways-to-normalize-the-features-for-statistics-or-machine-learning-software\n",
    "            img_mean = cv2.subtract(img_gray, np.mean(img_gray))\n",
    "            img_mean = cv2.divide(img_mean, np.std(img_gray))\n",
    "\n",
    "            plt.imshow(img_mean, cmap = 'gray')\n",
    "            plt.xticks([]), plt.yticks([])  # to hide tick values on X and Y axis\n",
    "            plt.title(\"(Image - Mean) / Std\")\n",
    "            plt.show()\n",
    "            \n",
    "            print(\"     Re-normalizing...\")\n",
    "\n",
    "            # Old max and min of image\n",
    "            img_min = int(np.min(img_mean))\n",
    "            img_max = int(np.max(img_mean))\n",
    "\n",
    "            # New range we'd like the values to have\n",
    "            new_min = 0\n",
    "            new_max = 255\n",
    "\n",
    "            # https://en.wikipedia.org/wiki/Normalization_(image_processing)\n",
    "            img_mean = cv2.subtract(img_mean, img_min)\n",
    "            img_mean = cv2.multiply(img_mean, (new_max-new_min)/(img_max-img_min))\n",
    "            img_mean = cv2.add(img_mean, new_min)\n",
    "            \n",
    "            plt.imshow(img_mean, cmap = 'gray')\n",
    "            plt.xticks([]), plt.yticks([])  # to hide tick values on X and Y axis\n",
    "            plt.title(\"Normalized\")\n",
    "            plt.show()\n",
    "            \n",
    "            # ROI width and height\n",
    "            h, w = np.shape(img_mean)\n",
    "            \n",
    "            # If rectangle is not set\n",
    "            if (rect[0] == -1):\n",
    "                rect[0] = w-1\n",
    "            if (rect[1] == -1):\n",
    "                rect[1] = h-1\n",
    "\n",
    "            # Free some allocated memory\n",
    "            del img\n",
    "\n",
    "            print(\"     Applying Otsu's threshold to clean up image...\")\n",
    "            img_otsu = p.otsu_threshold(img_mean, 0, 255)\n",
    "            plt.imshow(img_otsu, cmap = 'gray')\n",
    "            plt.xticks([]), plt.yticks([])  # to hide tick values on X and Y axis\n",
    "            plt.title(\"Otsu's Threshold Applied\")\n",
    "            plt.savefig(\"%s/%d_otsu_threshold.png\" % (save_dir, file_num), dpi=300)\n",
    "            plt.show()\n",
    "            \n",
    "            # Otsu method processing\n",
    "            img_center = get_image_center(w, h)\n",
    "            img_roi = p.check_ROI(img_center, rect, w, h)\n",
    "            numstrips = process_ROI_and_save(img_otsu, img_roi, save_dir, file_num)\n",
    "            \n",
    "            del img_otsu"
   ]
  },
  {
   "cell_type": "code",
   "execution_count": null,
   "metadata": {
    "collapsed": true
   },
   "outputs": [],
   "source": []
  }
 ],
 "metadata": {
  "kernelspec": {
   "display_name": "Python 3",
   "language": "python",
   "name": "python3"
  },
  "language_info": {
   "codemirror_mode": {
    "name": "ipython",
    "version": 3
   },
   "file_extension": ".py",
   "mimetype": "text/x-python",
   "name": "python",
   "nbconvert_exporter": "python",
   "pygments_lexer": "ipython3",
   "version": "3.6.1"
  }
 },
 "nbformat": 4,
 "nbformat_minor": 2
}
